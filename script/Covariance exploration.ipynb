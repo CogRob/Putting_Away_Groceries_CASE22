{
 "cells": [
  {
   "cell_type": "code",
   "execution_count": 1,
   "id": "8352ec1f",
   "metadata": {},
   "outputs": [],
   "source": [
    "import sys\n",
    "import math\n",
    "from tabnanny import check\n",
    "sys.path.append('../data')\n",
    "\n",
    "from pantry_database import misc \n",
    "from scipy.special import softmax\n",
    "from scipy import spatial\n",
    "import numpy as np\n",
    "from gensim.models import Word2Vec\n",
    "import gensim.downloader"
   ]
  },
  {
   "cell_type": "code",
   "execution_count": 2,
   "id": "a0398af4",
   "metadata": {},
   "outputs": [],
   "source": [
    "\n",
    "def catigory_score(pantryGroup, groceryGroup):\n",
    "    Pvector = np.array([x for x in pantryGroup.values()])\n",
    "    Gvector = np.array([x for x in groceryGroup.values()])\n",
    "    if sum(Pvector) == 0 or sum(Gvector) == 0:\n",
    "        score = 0\n",
    "    else:\n",
    "        score = 1- spatial.distance.cosine(Pvector, Gvector) \n",
    "        # Try score with difference similarity functions \n",
    "        #spatial.distance.eclidean(Pvector, Gvector) \n",
    "        #spatial.distance.jaccard(Pvector, Gvector) \n",
    "    return score\n",
    "\n",
    "def word2vec_score(glove_wiki_vec,pantry,grocery):\n",
    "    complex_words = [ \"gummy-vitamins\", \"baby-formula\", \"condensed-milk\", \"alfredo-sauce\",\"olive-oil\", \"granola-bars\",\"pancake-mix\", \"peanut-butter\", \"grape-jam\",\"bread-crumbs\", \"hot-sauce\", \"tomato-soup\", \"muffin-mix\"]\n",
    "    wd_score = 0 \n",
    "    pantry = pantry.split(\"_\")[0]\n",
    "    grocery = grocery.split(\"_\")[0]\n",
    "    if pantry not in complex_words and grocery not in complex_words:\n",
    "        wd_score += glove_wiki_vec.similarity(pantry, grocery)\n",
    "    else:\n",
    "        if pantry in complex_words and grocery in complex_words:\n",
    "            pantry = pantry.split(\"-\")\n",
    "            grocery = grocery.split(\"-\")\n",
    "            pantry = glove_wiki_vec[pantry[0]] +  glove_wiki_vec[pantry[1]]\n",
    "            grocery = glove_wiki_vec[grocery[0]] +  glove_wiki_vec[grocery[1]]\n",
    "            pantry = np.array(pantry)\n",
    "            grocery = np.array(grocery)\n",
    "            wd_score = pantry.dot(grocery)/np.linalg.norm(grocery)/np.linalg.norm(pantry)\n",
    "        elif pantry in complex_words:\n",
    "            pantry = pantry.split(\"-\")\n",
    "            pantry = glove_wiki_vec[pantry[0]] +  glove_wiki_vec[pantry[1]]\n",
    "            grocery = glove_wiki_vec[grocery]\n",
    "            pantry = np.array(pantry)\n",
    "            grocery = np.array(grocery)\n",
    "            wd_score = pantry.dot(grocery)/np.linalg.norm(grocery)/np.linalg.norm(pantry)\n",
    "        elif grocery in complex_words:\n",
    "            grocery = grocery.split(\"-\")\n",
    "            grocery = glove_wiki_vec[grocery[0]] +  glove_wiki_vec[grocery[1]]\n",
    "            pantry = glove_wiki_vec[pantry]\n",
    "            pantry = np.array(pantry)\n",
    "            grocery = np.array(grocery)\n",
    "            wd_score = pantry.dot(grocery)/np.linalg.norm(grocery)/np.linalg.norm(pantry)\n",
    "    \n",
    "    return wd_score"
   ]
  },
  {
   "cell_type": "code",
   "execution_count": 3,
   "id": "c4ad7acd",
   "metadata": {},
   "outputs": [
    {
     "name": "stdout",
     "output_type": "stream",
     "text": [
      "done\n"
     ]
    }
   ],
   "source": [
    "glove_wiki_vec = gensim.downloader.load('glove-wiki-gigaword-300')\n",
    "#glove_wiki_vec = gensim.downloader.load('glove-twitter-100')\n",
    "print(\"done\")"
   ]
  },
  {
   "cell_type": "code",
   "execution_count": 13,
   "id": "5bcaa25d",
   "metadata": {},
   "outputs": [],
   "source": [
    "# FOOD_GROUP_WEIGHT =  0.7749049648288351\n",
    "# CONTAINER_WEIGHT = 0.7148143272203293\n",
    "# STABLE_WEIGHT = 0.727312776359687\n",
    "# PURPOSE_WEIGHT = 0.985281033562436\n",
    "# WORD2VECT_WEIGHT = 0.8022233915876426\n",
    "\n",
    "\n",
    "\n",
    "\n",
    "FOOD_GROUP_WEIGHT = .5\n",
    "CONTAINER_WEIGHT = 1\n",
    "STABLE_WEIGHT = 1\n",
    "PURPOSE_WEIGHT = 1\n",
    "WORD2VECT_WEIGHT = .5\n",
    "\n",
    "\n",
    "\n",
    "def cluster(pantry_items, grocery_items):\n",
    "    \"\"\"\n",
    "    Return: \n",
    "        { grocy_item: [(pantry_item, score), (pantry_item,score)], grocery....}\n",
    "    \"\"\"\n",
    "    #glove_wiki_vec = gensim.downloader.load('glove-wiki-gigaword-300')\n",
    "    clusters = {}\n",
    "    for grocery in grocery_items:\n",
    "        score_list = []\n",
    "        for pantry_obj in pantry_items:\n",
    "\n",
    "            fg_score = FOOD_GROUP_WEIGHT *  catigory_score(misc[pantry_obj][\"Food_Groups\"], misc[grocery][\"Food_Groups\"])\n",
    "            print(\"FG:\",fg_score)\n",
    "            continer_score = CONTAINER_WEIGHT *  catigory_score(misc[pantry_obj][\"Continer\"], misc[grocery][\"Continer\"])\n",
    "            print(\"CG:\",continer_score)\n",
    "            \n",
    "            stability_score = STABLE_WEIGHT * catigory_score(misc[pantry_obj][\"Stability\"], misc[grocery][\"Stability\"])\n",
    "            print(\"S:\",stability_score)\n",
    "            purpose_score = PURPOSE_WEIGHT * catigory_score(misc[pantry_obj][\"Purpose\"], misc[grocery][\"Purpose\"])\n",
    "#             sum(np.array([x for x in misc[pantry_obj][\"Purpose\"].values()]) *\n",
    "#                          np.array([x for x in misc[grocery][\"Purpose\"].values()]))\n",
    "            print(\"P:\",purpose_score)\n",
    "            wdVec_score = WORD2VECT_WEIGHT * word2vec_score(glove_wiki_vec ,pantry_obj,grocery)\n",
    "            print(\"W2:\",wdVec_score)\n",
    "            \n",
    "            score = fg_score + continer_score + stability_score + purpose_score + wdVec_score\n",
    "            score_list.append(( pantry_obj, score))\n",
    "            # if pantry_obj in self.shelf1:\n",
    "            #     score_list.append(( pantry_obj, score, self.shelf1))\n",
    "            # elif pantry_obj in self.shelf2:\n",
    "            #     score_list.append(( pantry_obj, score, self.shelf2))\n",
    "                \n",
    "        \n",
    "        score_list.sort( key = lambda x: x[1], reverse=True)\n",
    "        clusters[grocery] = score_list\n",
    "\n",
    "    #self.clustered = clusters      \n",
    "    return clusters"
   ]
  },
  {
   "cell_type": "code",
   "execution_count": 19,
   "id": "7bf4eb9c",
   "metadata": {},
   "outputs": [
    {
     "name": "stdout",
     "output_type": "stream",
     "text": [
      "FG: 0.5\n",
      "CG: 1.0\n",
      "S: 1.0\n",
      "P: 0\n",
      "W2: 0.25698456168174744\n"
     ]
    }
   ],
   "source": [
    "pantry = [ \"ketchup_b\"]\n",
    "#pantry = [ \"hot-sauce\",\"cookies\", \"ketchup_b\", \"muffin-mix\", \"granola-bars\",  \"pringles\"]\n",
    "grocerys = [ \"hot-sauce\"]\n",
    "#grocerys= [\"tomato-soup\", \"hot-sauce\", \"pancake-mix\", \"peanut-butter\"]\n",
    "cluster_list = cluster(pantry, grocerys)\n",
    "#print(cluster_list)"
   ]
  },
  {
   "cell_type": "code",
   "execution_count": 55,
   "id": "91054b02",
   "metadata": {},
   "outputs": [
    {
     "name": "stdout",
     "output_type": "stream",
     "text": [
      "51\n",
      "1326\n",
      "printing X\n",
      "pringint Cv\n",
      "[[1.         0.43103944 0.22834995 0.32083933 0.4606701 ]\n",
      " [0.43103944 1.         0.29319397 0.15244776 0.25318034]\n",
      " [0.22834995 0.29319397 1.         0.12872188 0.1598599 ]\n",
      " [0.32083933 0.15244776 0.12872188 1.         0.28192565]\n",
      " [0.4606701  0.25318034 0.1598599  0.28192565 1.        ]]\n",
      "Printing C\n",
      "[[1.00075472 0.43136475 0.22852229 0.32108147 0.46101777]\n",
      " [0.43136475 1.00075472 0.29341525 0.15256281 0.25337142]\n",
      " [0.22852229 0.29341525 1.00075472 0.12881903 0.15998055]\n",
      " [0.32108147 0.15256281 0.12881903 1.00075472 0.28213842]\n",
      " [0.46101777 0.25337142 0.15998055 0.28213842 1.00075472]]\n",
      "Values\n",
      "[2.12256476 0.47455592 0.96262041 0.77849775 0.66553474]\n",
      "Vectors\n",
      "[[-0.54998368 -0.78189679  0.10312379  0.26765347 -0.06230941]\n",
      " [-0.45986999  0.43378826 -0.40722333  0.34898242 -0.55922068]\n",
      " [-0.34340436 -0.06469748 -0.65995385 -0.55507166  0.3663933 ]\n",
      " [-0.3786229   0.14219539  0.52639864 -0.65109218 -0.36797911]\n",
      " [-0.47408405  0.41959488  0.33301657  0.27303355  0.64322398]]\n"
     ]
    }
   ],
   "source": [
    "from sklearn.preprocessing import StandardScaler\n",
    "def cluster_covariance_matrix():\n",
    "    variables_len = 5\n",
    "    num_objs = len(misc)\n",
    "    print(num_objs)\n",
    "    misc_keys = [x for x in misc.keys()]\n",
    "    # 946 is the combination of our 43 object with no repeats \n",
    "    X = np.zeros((1326, variables_len))\n",
    "    i = 0\n",
    "    checked_set = set()\n",
    "    cnt = 0     \n",
    "    for _ in range(i, num_objs):\n",
    "        j = 0\n",
    "        for _ in range(j,num_objs):\n",
    "            fg, cg, s, p = 0,0,0,0\n",
    "            wd_score = 0 \n",
    "            current_obj = misc_keys[i]\n",
    "            obj = misc_keys[j]\n",
    "            if (current_obj, obj) not in checked_set and (obj, current_obj) not in checked_set:\n",
    "                checked_set.add((current_obj, obj))\n",
    "                fg = catigory_score(misc[current_obj][\"Food_Groups\"], misc[obj][\"Food_Groups\"])\n",
    "                cg = catigory_score(misc[current_obj][\"Continer\"], misc[obj][\"Continer\"])\n",
    "                #s = sum(np.array([x for x in misc[current_obj][\"Stability\"].values()]) *\n",
    "                #         np.array([x for x in misc[obj][\"Stability\"].values()]))\n",
    "#                 p = sum(np.array([x for x in misc[current_obj][\"Purpose\"].values()]) *\n",
    "#                          np.array([x for x in misc[obj][\"Purpose\"].values()]))\n",
    "                s = catigory_score(misc[current_obj][\"Stability\"], misc[obj][\"Stability\"])\n",
    "                p = catigory_score(misc[current_obj][\"Purpose\"], misc[obj][\"Purpose\"])\n",
    "                # wd2Vec score \n",
    "                wd_score = word2vec_score(glove_wiki_vec, current_obj, obj)\n",
    "        \n",
    "                X[cnt][0] = fg \n",
    "                X[cnt][1] = cg \n",
    "                X[cnt][2] = s \n",
    "                X[cnt][3] = p \n",
    "                X[cnt][4] = wd_score\n",
    "                cnt += 1\n",
    "            j +=1\n",
    "        i +=1\n",
    "    print(cnt)\n",
    "           \n",
    "\n",
    "    print(\"printing X\")\n",
    "    #print(X)\n",
    "    #X = normalize(X,axis=0,norm='max')\n",
    "    Xs = StandardScaler().fit_transform(X)\n",
    "    #print(X)\n",
    "    #X_bar = np.mean(X,axis=0)\n",
    "    \n",
    "    #print(\"pringint X_bar\")\n",
    "    #print(X_bar)\n",
    "    \n",
    "    #B = X - X_bar\n",
    "    #print(\"printing B\")\n",
    "    #print(B)\n",
    "    #print(\"Printing BT*B\")\n",
    "    #B_p = B.T.dot(B) / 946\n",
    "    #print(B_p)\n",
    "    Cv =np.corrcoef(Xs.T)\n",
    "    print(\"pringint Cv\")\n",
    "    print(Cv)\n",
    "    C = np.cov(Xs, rowvar=False)\n",
    "    print(\"Printing C\")\n",
    "    print(C)\n",
    "    \n",
    "    values, vector = np.linalg.eig(C)\n",
    "    print(\"Values\")\n",
    "    print(values)\n",
    "    print(\"Vectors\")\n",
    "    print(vector)\n",
    "    \n",
    "#     print(\"Pincipal\")\n",
    "#     T = B.dot(vector)\n",
    "#     #T = vector.T.dot(B.T)\n",
    "#     print(T)\n",
    "    return X, C, vector, values\n",
    "\n",
    "\n",
    "X, C, Vect, EV = cluster_covariance_matrix()"
   ]
  },
  {
   "cell_type": "code",
   "execution_count": 64,
   "id": "937adc7e",
   "metadata": {},
   "outputs": [
    {
     "data": {
      "image/png": "[encoded data removed]",
      "text/plain": [
       "<Figure size 432x288 with 2 Axes>"
      ]
     },
     "metadata": {
      "needs_background": "light"
     },
     "output_type": "display_data"
    }
   ],
   "source": [
    "import pandas as pd\n",
    "import matplotlib.pyplot as plt\n",
    "import seaborn as sns\n",
    "loadings = pca.components_\n",
    "num_pc = pca.n_features_\n",
    "pc_list = [\"PC\"+str(i) for i in list(range(1, num_pc+1))]\n",
    "loadings_df = pd.DataFrame.from_dict(dict(zip(pc_list, loadings)))\n",
    "#loadings_df = pd.DataFrame.from_dict(dict(zip([\"FG\",\"CG\",\"S\",\"P\",\"W2V\"],C)))\n",
    "loadings_df['variable'] = labels=[\"FG\",\"CG\",\"S\",\"P\",\"W2V\"]\n",
    "# loadings_df['variable'] = X_scaled.columns.values\n",
    "loadings_df = loadings_df.set_index('variable')\n",
    "loadings_df\n",
    "ax = sns.heatmap(loadings_df, annot=True, cmap='Spectral')\n",
    "plt.show()\n",
    "from bioinfokit.visuz import cluster\n",
    "#cluster.screeplot(obj=[pc_list, pca.explained_variance_ratio_])"
   ]
  },
  {
   "cell_type": "code",
   "execution_count": 65,
   "id": "788d9185",
   "metadata": {},
   "outputs": [
    {
     "name": "stdout",
     "output_type": "stream",
     "text": [
      "[2.12256476 0.96262041 0.77849775 0.66553474 0.47455592]\n",
      "[[ 0.54998368  0.45986999  0.34340436  0.3786229   0.47408405]\n",
      " [ 0.10312379 -0.40722333 -0.65995385  0.52639864  0.33301657]\n",
      " [-0.26765347 -0.34898242  0.55507166  0.65109218 -0.27303355]\n",
      " [ 0.06230941  0.55922068 -0.3663933   0.36797911 -0.64322398]\n",
      " [ 0.78189679 -0.43378826  0.06469748 -0.14219539 -0.41959488]]\n",
      "5\n",
      "[0.42419281 0.19237889 0.15558213 0.13300657 0.09483961]\n"
     ]
    }
   ],
   "source": [
    "from sklearn.decomposition import PCA\n",
    "from sklearn.preprocessing import StandardScaler\n",
    "from sklearn.preprocessing import normalize\n",
    "\n",
    "#print(X)\n",
    "# Standardizing the features\n",
    "X_scaled = StandardScaler().fit_transform(X)\n",
    "#print(X_scaled)\n",
    "\n",
    "#X_normal = normalize(X,axis=0,norm='max')\n",
    "# print(X_normal)\n",
    "\n",
    "pca = PCA(n_components=5)\n",
    "#pca1 = PCA(n_components=5)\n",
    "PCA_X = pca.fit_transform(X_scaled)\n",
    "#principalComponents1 = pca1.fit_transform(X_normal)\n",
    "\n",
    "print(pca.explained_variance_)\n",
    "print(pca.components_)\n",
    "print(pca.n_features_)\n",
    "print(pca.explained_variance_ratio_)\n",
    "#print(pca1.explained_variance_)\n",
    "#print(pca1.components_)\n",
    "#print(principalComponents)\n"
   ]
  },
  {
   "cell_type": "code",
   "execution_count": 66,
   "id": "bad9d335",
   "metadata": {},
   "outputs": [],
   "source": [
    "# get PCA loadings plots (2D and 3D)\n",
    "# 2D\n",
    "cluster.pcaplot(x=loadings[0], y=loadings[1], labels=[\"FG\",\"CG\",\"SA\",\"PU\",\"W2V\"], \n",
    "    var1=round(pca.explained_variance_ratio_[0]*100, 2),\n",
    "    var2=round(pca.explained_variance_ratio_[1]*100, 2))\n",
    "\n",
    "# 3D\n",
    "cluster.pcaplot(x=loadings[0], y=loadings[1], z=loadings[2],  labels=[\"FG\",\"CG\",\"SA\",\"PU\",\"W2V\"], \n",
    "    var1=round(pca.explained_variance_ratio_[0]*100, 2), var2=round(pca.explained_variance_ratio_[1]*100, 2), \n",
    "    var3=round(pca.explained_variance_ratio_[2]*100, 2))"
   ]
  },
  {
   "cell_type": "code",
   "execution_count": 26,
   "id": "ada5e9b2",
   "metadata": {},
   "outputs": [
    {
     "name": "stdout",
     "output_type": "stream",
     "text": [
      "0.727084095690635\n",
      "0.7478275607167041\n",
      "0.9189453904704765\n",
      "0.6523514830145654\n",
      "0.5840904303606396\n"
     ]
    }
   ],
   "source": [
    "c1 = Vect[:,0]\n",
    "c2 = Vect[:,1]\n",
    "c3 = Vect[:,2]\n",
    "\n",
    "c1_t, c2_t, c3_t = 0,0,0\n",
    "\n",
    "for i in range(0,len(c1)):\n",
    "    c1_t += np.exp(c1[i])\n",
    "    c2_t += np.exp(c2[i])\n",
    "    c3_t += np.exp(c3[i])\n",
    "\n",
    "\n",
    "Wfg = EV[0]*np.exp(c1[0])/c1_t + EV[1]*np.exp(c2[0])/c2_t + EV[2]*np.exp(c3[0])/c3_t\n",
    "Wcg = EV[0]*np.exp(c1[1])/c1_t + EV[1]*np.exp(c2[1])/c2_t + EV[2]*np.exp(c3[1])/c3_t\n",
    "Ws = EV[0]*np.exp(c1[2])/c1_t + EV[1]*np.exp(c2[2])/c2_t + EV[2]*np.exp(c3[2])/c3_t\n",
    "Wp = EV[0]*np.exp(c1[3])/c1_t + EV[1]*np.exp(c2[3])/c2_t + EV[2]*np.exp(c3[3])/c3_t\n",
    "Ww2v = EV[0]*np.exp(c1[4])/c1_t + EV[1]*np.exp(c2[4])/c2_t + EV[2]*np.exp(c3[4])/c3_t\n",
    "print(Wfg)\n",
    "print(Wcg)\n",
    "print(Ws)\n",
    "print(Wp)\n",
    "print(Ww2v)"
   ]
  },
  {
   "cell_type": "code",
   "execution_count": 1,
   "id": "6fabedb9",
   "metadata": {},
   "outputs": [
    {
     "ename": "NameError",
     "evalue": "name 'PCA_X' is not defined",
     "output_type": "error",
     "traceback": [
      "\u001b[0;31m---------------------------------------------------------------------------\u001b[0m",
      "\u001b[0;31mNameError\u001b[0m                                 Traceback (most recent call last)",
      "\u001b[0;32m<ipython-input-1-6bd9168827d0>\u001b[0m in \u001b[0;36m<module>\u001b[0;34m\u001b[0m\n\u001b[1;32m      9\u001b[0m \u001b[0;32mimport\u001b[0m \u001b[0mmatplotlib\u001b[0m\u001b[0;34m.\u001b[0m\u001b[0mpyplot\u001b[0m \u001b[0;32mas\u001b[0m \u001b[0mplt\u001b[0m\u001b[0;34m\u001b[0m\u001b[0;34m\u001b[0m\u001b[0m\n\u001b[1;32m     10\u001b[0m \u001b[0;34m\u001b[0m\u001b[0m\n\u001b[0;32m---> 11\u001b[0;31m \u001b[0mpca_data\u001b[0m \u001b[0;34m=\u001b[0m \u001b[0mpd\u001b[0m\u001b[0;34m.\u001b[0m\u001b[0mDataFrame\u001b[0m\u001b[0;34m(\u001b[0m\u001b[0mPCA_X\u001b[0m\u001b[0;34m,\u001b[0m\u001b[0mcolumns\u001b[0m\u001b[0;34m=\u001b[0m\u001b[0;34m[\u001b[0m\u001b[0;34m'PC1'\u001b[0m\u001b[0;34m,\u001b[0m\u001b[0;34m'PC2'\u001b[0m\u001b[0;34m]\u001b[0m\u001b[0;34m)\u001b[0m\u001b[0;34m\u001b[0m\u001b[0;34m\u001b[0m\u001b[0m\n\u001b[0m\u001b[1;32m     12\u001b[0m \u001b[0mkmeans\u001b[0m \u001b[0;34m=\u001b[0m\u001b[0mKMeans\u001b[0m\u001b[0;34m(\u001b[0m\u001b[0mn_clusters\u001b[0m\u001b[0;34m=\u001b[0m\u001b[0;36m5\u001b[0m\u001b[0;34m)\u001b[0m\u001b[0;34m.\u001b[0m\u001b[0mfit\u001b[0m\u001b[0;34m(\u001b[0m\u001b[0mX_scaled\u001b[0m\u001b[0;34m)\u001b[0m\u001b[0;34m\u001b[0m\u001b[0;34m\u001b[0m\u001b[0m\n\u001b[1;32m     13\u001b[0m \u001b[0mpca_data\u001b[0m\u001b[0;34m[\u001b[0m\u001b[0;34m'cluster'\u001b[0m\u001b[0;34m]\u001b[0m \u001b[0;34m=\u001b[0m \u001b[0mpd\u001b[0m\u001b[0;34m.\u001b[0m\u001b[0mCategorical\u001b[0m\u001b[0;34m(\u001b[0m\u001b[0mkmeans\u001b[0m\u001b[0;34m.\u001b[0m\u001b[0mlabels_\u001b[0m\u001b[0;34m)\u001b[0m\u001b[0;34m\u001b[0m\u001b[0;34m\u001b[0m\u001b[0m\n",
      "\u001b[0;31mNameError\u001b[0m: name 'PCA_X' is not defined"
     ]
    }
   ],
   "source": [
    "###### From this cell lower is all testing of funcitonality. Not used for clustering or data collection\n",
    "\n",
    "import pandas as pd\n",
    "import matplotlib.pyplot as plt\n",
    "import seaborn as sns\n",
    "from sklearn.preprocessing import StandardScaler\n",
    "from sklearn.pipeline import Pipeline\n",
    "from sklearn.cluster import KMeans\n",
    "import matplotlib.pyplot as plt\n",
    "\n",
    "pca_data = pd.DataFrame(PCA_X,columns=['PC1','PC2']) \n",
    "kmeans =KMeans(n_clusters=5).fit(X_scaled)\n",
    "pca_data['cluster'] = pd.Categorical(kmeans.labels_)\n",
    "sns.scatterplot(x=\"PC1\",y=\"PC2\",hue=\"cluster\",data=pca_data)"
   ]
  },
  {
   "cell_type": "code",
   "execution_count": 74,
   "id": "7fc5489f",
   "metadata": {},
   "outputs": [
    {
     "name": "stdout",
     "output_type": "stream",
     "text": [
      "[[1 2]\n",
      " [3 4]\n",
      " [5 6]]\n",
      "Cov\n",
      "[[4. 4.]\n",
      " [4. 4.]]\n",
      "vectors\n",
      "[[ 0.70710678 -0.70710678]\n",
      " [ 0.70710678  0.70710678]]\n",
      "values\n",
      "[8. 0.]\n",
      "Principle\n",
      "[[-2.82842712  0.        ]\n",
      " [ 0.          0.        ]\n",
      " [ 2.82842712  0.        ]]\n"
     ]
    }
   ],
   "source": [
    "\n",
    "from numpy import array\n",
    "from numpy import mean\n",
    "from numpy import cov\n",
    "from numpy.linalg import eig\n",
    "# define a matrix\n",
    "A = array([[1, 2], [3, 4], [5, 6]])\n",
    "print(A)\n",
    "# calculate the mean of each column\n",
    "M = mean(A.T, axis=1)\n",
    "#print(M)\n",
    "# center columns by subtracting column means\n",
    "C = A - M\n",
    "#print(C)\n",
    "# calculate covariance matrix of centered matrix\n",
    "print(\"Cov\")\n",
    "V = cov(C.T)\n",
    "print(V)\n",
    "# eigendecomposition of covariance matrix\n",
    "values, vectors = eig(V)\n",
    "print(\"vectors\")\n",
    "print(vectors)\n",
    "print(\"values\")\n",
    "print(values)\n",
    "# project data\n",
    "P = vectors.T.dot(C.T)\n",
    "print(\"Principle\")\n",
    "print(P.T)"
   ]
  },
  {
   "cell_type": "code",
   "execution_count": 84,
   "id": "9f04b63d",
   "metadata": {},
   "outputs": [
    {
     "name": "stdout",
     "output_type": "stream",
     "text": [
      "[[1 2]\n",
      " [3 4]\n",
      " [5 6]]\n",
      "componets\n",
      "[[ 0.70710678  0.70710678]\n",
      " [-0.70710678  0.70710678]]\n",
      "variance\n",
      "[8. 0.]\n",
      "Transfrom\n",
      "[[-2.82842712e+00 -2.22044605e-16]\n",
      " [ 0.00000000e+00  0.00000000e+00]\n",
      " [ 2.82842712e+00  2.22044605e-16]]\n"
     ]
    }
   ],
   "source": [
    "# Principal Component Analysis\n",
    "from numpy import array\n",
    "from sklearn.decomposition import PCA\n",
    "# define a matrix\n",
    "A = array([[1, 2], [3, 4], [5, 6]])\n",
    "print(A)\n",
    "# create the PCA instance\n",
    "pca = PCA(2)\n",
    "# fit on data\n",
    "pca.fit(A)\n",
    "# access values and vectors\n",
    "print(\"componets\")\n",
    "print(pca.components_)\n",
    "print(\"variance\")\n",
    "print(pca.explained_variance_)\n",
    "# transform data\n",
    "B = pca.transform(A)\n",
    "print(\"Transfrom\")\n",
    "print(B)"
   ]
  },
  {
   "cell_type": "code",
   "execution_count": null,
   "id": "2396ed6e",
   "metadata": {},
   "outputs": [],
   "source": []
  }
 ],
 "metadata": {
  "kernelspec": {
   "display_name": "Python 3",
   "language": "python",
   "name": "python3"
  },
  "language_info": {
   "codemirror_mode": {
    "name": "ipython",
    "version": 3
   },
   "file_extension": ".py",
   "mimetype": "text/x-python",
   "name": "python",
   "nbconvert_exporter": "python",
   "pygments_lexer": "ipython3",
   "version": "3.6.9"
  }
 },
 "nbformat": 4,
 "nbformat_minor": 5
}
